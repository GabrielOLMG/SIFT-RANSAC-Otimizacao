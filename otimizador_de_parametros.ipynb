{
 "cells": [
  {
   "cell_type": "markdown",
   "metadata": {},
   "source": [
    "# Biblioteca"
   ]
  },
  {
   "cell_type": "code",
   "execution_count": 5,
   "metadata": {},
   "outputs": [],
   "source": [
    "import os\n",
    "import cv2 as cv\n",
    "import numpy as np\n",
    "import matplotlib.pyplot as plt\n",
    "import tqdm\n",
    "import random\n",
    "import math\n",
    "from itertools import product, permutations\n",
    "import concurrent.futures"
   ]
  },
  {
   "cell_type": "code",
   "execution_count": 6,
   "metadata": {},
   "outputs": [],
   "source": [
    "from funcoes_gerais import open_images, open_image\n",
    "from funcoes_semelhanca import compare_keypoints_descriptors, computeSIFT, _compare_keypoints_descriptors"
   ]
  },
  {
   "cell_type": "markdown",
   "metadata": {},
   "source": [
    "# Variaveis"
   ]
  },
  {
   "cell_type": "markdown",
   "metadata": {},
   "source": [
    "## Constantes"
   ]
  },
  {
   "cell_type": "code",
   "execution_count": 7,
   "metadata": {},
   "outputs": [],
   "source": [
    "PATH = \"data_real\"\n",
    "VAR_TYPES = {\"sigma\": float, \"contrastThreshold\": float, \"nOctaveLayers\": int, \"edgeThreshold\": int, \"nfeatures\": int}\n",
    "VAR_MUTATION = {\"sigma\": 0.3, \"contrastThreshold\": 0.3, \"nOctaveLayers\": 2, \"edgeThreshold\": 3, \"nfeatures\": 2}\n",
    "POPULATION_SIZE = 5"
   ]
  },
  {
   "cell_type": "markdown",
   "metadata": {},
   "source": [
    "## Geral"
   ]
  },
  {
   "cell_type": "code",
   "execution_count": 8,
   "metadata": {},
   "outputs": [],
   "source": [
    "path_imagem_1 = \"data_real/32972/imovel_1/1202860#009.jpg\"\n",
    "path_imagem_2 = \"data_real/32972/imovel_2/125621013-61#022.jpg\"\n",
    "\n",
    "imagem_1 = open_image(path_imagem_1)\n",
    "imagem_2 = open_image(path_imagem_2)"
   ]
  },
  {
   "cell_type": "markdown",
   "metadata": {},
   "source": [
    "# Funções"
   ]
  },
  {
   "cell_type": "code",
   "execution_count": 9,
   "metadata": {},
   "outputs": [],
   "source": [
    "def view_image(image):\n",
    "    imagem_rgb = cv.cvtColor(image, cv.COLOR_BGR2RGB)\n",
    "    plt.imshow(imagem_rgb)\n",
    "    plt.axis('off')  # Desativar eixos\n",
    "    plt.show()"
   ]
  },
  {
   "cell_type": "code",
   "execution_count": 10,
   "metadata": {},
   "outputs": [],
   "source": [
    "def get_keypoints_descriptors(sift, image):\n",
    "    keypoint, descriptor = computeSIFT(sift, image)\n",
    "    \n",
    "    keypoint = [(float(kp.pt[0]), float(kp.pt[1])) for kp in keypoint]\n",
    "    if len(keypoint) <=1:\n",
    "        return None\n",
    "    descriptor = descriptor.astype(np.float32)\n",
    "\n",
    "    return [keypoint, descriptor, image]"
   ]
  },
  {
   "cell_type": "code",
   "execution_count": 11,
   "metadata": {},
   "outputs": [],
   "source": [
    "def evaluates_performance(parametro, imagem_1, imagem_2):\n",
    "    sift = cv.SIFT_create(**parametro)\n",
    "\n",
    "    keypoints_descriptors_image_1 = get_keypoints_descriptors(sift, imagem_1)\n",
    "    keypoints_descriptors_image_2 = get_keypoints_descriptors(sift, imagem_2)\n",
    "\n",
    "    if (keypoints_descriptors_image_1 is None or keypoints_descriptors_image_2 is None):\n",
    "        return -1, -1\n",
    "\n",
    "    score_1_ransac,score_2_normal  =  _compare_keypoints_descriptors(keypoints_descriptors_image_1, keypoints_descriptors_image_2, same=True)\n",
    "    \n",
    "    return score_1_ransac,score_2_normal"
   ]
  },
  {
   "cell_type": "code",
   "execution_count": 12,
   "metadata": {},
   "outputs": [],
   "source": [
    "def accept_worse_solution(desempenho_atual, desempenho_novo, temperatura):\n",
    "    probability = math.exp((desempenho_atual - desempenho_novo) / temperatura)\n",
    "    accepted = random.random() < probability\n",
    "    return accepted"
   ]
  },
  {
   "cell_type": "code",
   "execution_count": 28,
   "metadata": {},
   "outputs": [],
   "source": [
    "def generates_mutation(parametro_nome, old_value):\n",
    "    variation = random.uniform(-VAR_MUTATION[parametro_nome], VAR_MUTATION[parametro_nome])\n",
    "\n",
    "    if VAR_TYPES[parametro_nome] == int:\n",
    "        variation = round(variation)\n",
    "\n",
    "    if parametro_nome == \"nOctaveLayers\":\n",
    "        new_value = max(2, old_value + variation)\n",
    "    else:\n",
    "        new_value = max(0, old_value + variation)\n",
    "\n",
    "    return new_value"
   ]
  },
  {
   "cell_type": "code",
   "execution_count": 29,
   "metadata": {},
   "outputs": [],
   "source": [
    "def generate_random_population(population_size):\n",
    "    population = []\n",
    "\n",
    "    while len(population) < population_size:\n",
    "        parameters = {\n",
    "            \"sigma\": random.uniform(0.1, 1.0),\n",
    "            \"contrastThreshold\": random.uniform(0.1, 0.5),\n",
    "            \"nOctaveLayers\": random.randint(2, 6),\n",
    "            \"edgeThreshold\": random.randint(5, 20),\n",
    "            \"nfeatures\": random.randint(50, 500),\n",
    "        }\n",
    "\n",
    "        # Verifica se o conjunto de parâmetros já está na população\n",
    "        if parameters not in population:\n",
    "            population.append(parameters)\n",
    "\n",
    "    return population"
   ]
  },
  {
   "cell_type": "code",
   "execution_count": 30,
   "metadata": {},
   "outputs": [],
   "source": [
    "def evaluate_individual(individual):\n",
    "    # Avaliar o desempenho do RANSAC e do método básico para um indivíduo\n",
    "    score_ransac, score_basic = evaluates_performance(individual, imagem_1, imagem_2)\n",
    "\n",
    "    return score_ransac, score_basic, individual"
   ]
  },
  {
   "cell_type": "code",
   "execution_count": 31,
   "metadata": {},
   "outputs": [],
   "source": [
    "def evaluate_population(population):\n",
    "    with concurrent.futures.ThreadPoolExecutor() as executor:\n",
    "        # Avalia cada indivíduo na população em paralelo\n",
    "        results = list(executor.map(evaluate_individual, population))\n",
    "    \n",
    "    return results\n",
    "\n"
   ]
  },
  {
   "cell_type": "code",
   "execution_count": 36,
   "metadata": {},
   "outputs": [],
   "source": [
    "def crossover(parent1, parent2, crossover_point=None):\n",
    "    \"\"\"\n",
    "    Realiza a operação de crossover entre dois indivíduos representados como dicionários.\n",
    "\n",
    "    Parâmetros:\n",
    "    - parent1: Dicionário representando o primeiro pai.\n",
    "    - parent2: Dicionário representando o segundo pai.\n",
    "    - crossover_point: Ponto de crossover no vetor (índice). Se for None, um ponto é escolhido aleatoriamente.\n",
    "\n",
    "    Retorna:\n",
    "    - Descendentes gerados a partir do crossover.\n",
    "    \"\"\"\n",
    "    if crossover_point is None:\n",
    "        crossover_point = random.randint(1, len(parent1) - 1)\n",
    "\n",
    "    child1 = {}\n",
    "    child2 = {}\n",
    "\n",
    "    keys = list(parent1.keys())\n",
    "\n",
    "    for i in range(crossover_point):\n",
    "        child1[keys[i]] = parent1[keys[i]]\n",
    "        child2[keys[i]] = parent2[keys[i]]\n",
    "\n",
    "    for i in range(crossover_point, len(parent1)):\n",
    "        child1[keys[i]] = parent2[keys[i]]\n",
    "        child2[keys[i]] = parent1[keys[i]]\n",
    "\n",
    "    return [child1, child2]"
   ]
  },
  {
   "cell_type": "code",
   "execution_count": 37,
   "metadata": {},
   "outputs": [],
   "source": [
    "def mutate_params(individual_param):\n",
    "     return {param: generates_mutation(param, value) for param, value in individual_param.items()}"
   ]
  },
  {
   "cell_type": "code",
   "execution_count": 38,
   "metadata": {},
   "outputs": [],
   "source": [
    "def generate_population_based_on_best(best_params, population_size, used_params):\n",
    "    new_population = []\n",
    "    i = 0\n",
    "    while len(new_population) < (population_size - 1) and i < 20:\n",
    "        mutated_params = mutate_params(best_params)\n",
    "\n",
    "        # Verifica se os parâmetros já foram utilizados\n",
    "        param_tuple = tuple(mutated_params.items())\n",
    "        if param_tuple not in used_params:\n",
    "            new_population.append(mutated_params)\n",
    "            used_params.add(param_tuple)\n",
    "\n",
    "    new_population.append(best_params.copy())  # Adiciona o melhor indivíduo à nova população\n",
    "    return new_population"
   ]
  },
  {
   "cell_type": "markdown",
   "metadata": {},
   "source": [
    "# Aplica Algoritmo Genetico - Tipo 1"
   ]
  },
  {
   "cell_type": "code",
   "execution_count": 39,
   "metadata": {},
   "outputs": [
    {
     "name": "stdout",
     "output_type": "stream",
     "text": [
      "GERACAO 1 --------------------\n",
      "\t\t TOTAL DE INDIVIDUOS: 5\n",
      "\t\t SCORE DO MELHOR INDIVIDUO: 0.0 X 0.0\n",
      "-------------------- GERACAO 1\n",
      "\n",
      "GERACAO 2 --------------------\n",
      "\t\t TOTAL DE INDIVIDUOS: 7\n",
      "\t\t SCORE DO MELHOR INDIVIDUO: 0.0 X 0.0\n",
      "-------------------- GERACAO 2\n",
      "\n",
      "GERACAO 3 --------------------\n",
      "\t\t TOTAL DE INDIVIDUOS: 9\n",
      "\t\t SCORE DO MELHOR INDIVIDUO: 0.0 X 0.0\n",
      "-------------------- GERACAO 3\n",
      "\n",
      "GERACAO 4 --------------------\n",
      "\t\t TOTAL DE INDIVIDUOS: 11\n",
      "\t\t SCORE DO MELHOR INDIVIDUO: 0.591715976331361 X 0.0\n",
      "-------------------- GERACAO 4\n",
      "\n",
      "GERACAO 5 --------------------\n",
      "\t\t TOTAL DE INDIVIDUOS: 13\n",
      "\t\t SCORE DO MELHOR INDIVIDUO: 0.591715976331361 X 0.0\n",
      "-------------------- GERACAO 5\n",
      "\n",
      "GERACAO 6 --------------------\n",
      "\t\t TOTAL DE INDIVIDUOS: 15\n"
     ]
    },
    {
     "ename": "KeyboardInterrupt",
     "evalue": "",
     "output_type": "error",
     "traceback": [
      "\u001b[1;31m---------------------------------------------------------------------------\u001b[0m",
      "\u001b[1;31mKeyboardInterrupt\u001b[0m                         Traceback (most recent call last)",
      "Cell \u001b[1;32mIn[39], line 8\u001b[0m\n\u001b[0;32m      5\u001b[0m \u001b[38;5;28mprint\u001b[39m(\u001b[38;5;124mf\u001b[39m\u001b[38;5;124m\"\u001b[39m\u001b[38;5;124mGERACAO \u001b[39m\u001b[38;5;132;01m{\u001b[39;00mgeracao\u001b[38;5;241m+\u001b[39m\u001b[38;5;241m1\u001b[39m\u001b[38;5;132;01m}\u001b[39;00m\u001b[38;5;124m --------------------\u001b[39m\u001b[38;5;124m\"\u001b[39m)\n\u001b[0;32m      6\u001b[0m \u001b[38;5;28mprint\u001b[39m(\u001b[38;5;124mf\u001b[39m\u001b[38;5;124m\"\u001b[39m\u001b[38;5;130;01m\\t\u001b[39;00m\u001b[38;5;130;01m\\t\u001b[39;00m\u001b[38;5;124m TOTAL DE INDIVIDUOS: \u001b[39m\u001b[38;5;132;01m{\u001b[39;00m\u001b[38;5;28mlen\u001b[39m(populations)\u001b[38;5;132;01m}\u001b[39;00m\u001b[38;5;124m\"\u001b[39m)\n\u001b[1;32m----> 8\u001b[0m population_result \u001b[38;5;241m=\u001b[39m \u001b[43mevaluate_population\u001b[49m\u001b[43m(\u001b[49m\u001b[43mpopulations\u001b[49m\u001b[43m)\u001b[49m\n\u001b[0;32m      9\u001b[0m population_sorted \u001b[38;5;241m=\u001b[39m \u001b[38;5;28msorted\u001b[39m(population_result, key\u001b[38;5;241m=\u001b[39m\u001b[38;5;28;01mlambda\u001b[39;00m tupla: tupla[\u001b[38;5;241m1\u001b[39m], reverse\u001b[38;5;241m=\u001b[39m\u001b[38;5;28;01mTrue\u001b[39;00m)\n\u001b[0;32m     10\u001b[0m best_individual_score_ransac, best_individual_score_basic, best_individual_param \u001b[38;5;241m=\u001b[39m population_sorted[\u001b[38;5;241m0\u001b[39m]\n",
      "Cell \u001b[1;32mIn[31], line 4\u001b[0m, in \u001b[0;36mevaluate_population\u001b[1;34m(population)\u001b[0m\n\u001b[0;32m      1\u001b[0m \u001b[38;5;28;01mdef\u001b[39;00m \u001b[38;5;21mevaluate_population\u001b[39m(population):\n\u001b[0;32m      2\u001b[0m     \u001b[38;5;28;01mwith\u001b[39;00m concurrent\u001b[38;5;241m.\u001b[39mfutures\u001b[38;5;241m.\u001b[39mThreadPoolExecutor() \u001b[38;5;28;01mas\u001b[39;00m executor:\n\u001b[0;32m      3\u001b[0m         \u001b[38;5;66;03m# Avalia cada indivíduo na população em paralelo\u001b[39;00m\n\u001b[1;32m----> 4\u001b[0m         results \u001b[38;5;241m=\u001b[39m \u001b[38;5;28;43mlist\u001b[39;49m\u001b[43m(\u001b[49m\u001b[43mexecutor\u001b[49m\u001b[38;5;241;43m.\u001b[39;49m\u001b[43mmap\u001b[49m\u001b[43m(\u001b[49m\u001b[43mevaluate_individual\u001b[49m\u001b[43m,\u001b[49m\u001b[43m \u001b[49m\u001b[43mpopulation\u001b[49m\u001b[43m)\u001b[49m\u001b[43m)\u001b[49m\n\u001b[0;32m      6\u001b[0m     \u001b[38;5;28;01mreturn\u001b[39;00m results\n",
      "File \u001b[1;32m~\\AppData\\Local\\Programs\\Python\\Python38\\lib\\concurrent\\futures\\_base.py:611\u001b[0m, in \u001b[0;36mExecutor.map.<locals>.result_iterator\u001b[1;34m()\u001b[0m\n\u001b[0;32m    608\u001b[0m \u001b[38;5;28;01mwhile\u001b[39;00m fs:\n\u001b[0;32m    609\u001b[0m     \u001b[38;5;66;03m# Careful not to keep a reference to the popped future\u001b[39;00m\n\u001b[0;32m    610\u001b[0m     \u001b[38;5;28;01mif\u001b[39;00m timeout \u001b[38;5;129;01mis\u001b[39;00m \u001b[38;5;28;01mNone\u001b[39;00m:\n\u001b[1;32m--> 611\u001b[0m         \u001b[38;5;28;01myield\u001b[39;00m \u001b[43mfs\u001b[49m\u001b[38;5;241;43m.\u001b[39;49m\u001b[43mpop\u001b[49m\u001b[43m(\u001b[49m\u001b[43m)\u001b[49m\u001b[38;5;241;43m.\u001b[39;49m\u001b[43mresult\u001b[49m\u001b[43m(\u001b[49m\u001b[43m)\u001b[49m\n\u001b[0;32m    612\u001b[0m     \u001b[38;5;28;01melse\u001b[39;00m:\n\u001b[0;32m    613\u001b[0m         \u001b[38;5;28;01myield\u001b[39;00m fs\u001b[38;5;241m.\u001b[39mpop()\u001b[38;5;241m.\u001b[39mresult(end_time \u001b[38;5;241m-\u001b[39m time\u001b[38;5;241m.\u001b[39mmonotonic())\n",
      "File \u001b[1;32m~\\AppData\\Local\\Programs\\Python\\Python38\\lib\\concurrent\\futures\\_base.py:434\u001b[0m, in \u001b[0;36mFuture.result\u001b[1;34m(self, timeout)\u001b[0m\n\u001b[0;32m    431\u001b[0m \u001b[38;5;28;01melif\u001b[39;00m \u001b[38;5;28mself\u001b[39m\u001b[38;5;241m.\u001b[39m_state \u001b[38;5;241m==\u001b[39m FINISHED:\n\u001b[0;32m    432\u001b[0m     \u001b[38;5;28;01mreturn\u001b[39;00m \u001b[38;5;28mself\u001b[39m\u001b[38;5;241m.\u001b[39m__get_result()\n\u001b[1;32m--> 434\u001b[0m \u001b[38;5;28;43mself\u001b[39;49m\u001b[38;5;241;43m.\u001b[39;49m\u001b[43m_condition\u001b[49m\u001b[38;5;241;43m.\u001b[39;49m\u001b[43mwait\u001b[49m\u001b[43m(\u001b[49m\u001b[43mtimeout\u001b[49m\u001b[43m)\u001b[49m\n\u001b[0;32m    436\u001b[0m \u001b[38;5;28;01mif\u001b[39;00m \u001b[38;5;28mself\u001b[39m\u001b[38;5;241m.\u001b[39m_state \u001b[38;5;129;01min\u001b[39;00m [CANCELLED, CANCELLED_AND_NOTIFIED]:\n\u001b[0;32m    437\u001b[0m     \u001b[38;5;28;01mraise\u001b[39;00m CancelledError()\n",
      "File \u001b[1;32m~\\AppData\\Local\\Programs\\Python\\Python38\\lib\\threading.py:302\u001b[0m, in \u001b[0;36mCondition.wait\u001b[1;34m(self, timeout)\u001b[0m\n\u001b[0;32m    300\u001b[0m \u001b[38;5;28;01mtry\u001b[39;00m:    \u001b[38;5;66;03m# restore state no matter what (e.g., KeyboardInterrupt)\u001b[39;00m\n\u001b[0;32m    301\u001b[0m     \u001b[38;5;28;01mif\u001b[39;00m timeout \u001b[38;5;129;01mis\u001b[39;00m \u001b[38;5;28;01mNone\u001b[39;00m:\n\u001b[1;32m--> 302\u001b[0m         \u001b[43mwaiter\u001b[49m\u001b[38;5;241;43m.\u001b[39;49m\u001b[43macquire\u001b[49m\u001b[43m(\u001b[49m\u001b[43m)\u001b[49m\n\u001b[0;32m    303\u001b[0m         gotit \u001b[38;5;241m=\u001b[39m \u001b[38;5;28;01mTrue\u001b[39;00m\n\u001b[0;32m    304\u001b[0m     \u001b[38;5;28;01melse\u001b[39;00m:\n",
      "\u001b[1;31mKeyboardInterrupt\u001b[0m: "
     ]
    }
   ],
   "source": [
    "geracoes = 30\n",
    "populations = generate_random_population(POPULATION_SIZE)\n",
    "avaliacao_best = []\n",
    "for geracao in range(geracoes):\n",
    "    print(f\"GERACAO {geracao+1} --------------------\")\n",
    "    print(f\"\\t\\t TOTAL DE INDIVIDUOS: {len(populations)}\")\n",
    "\n",
    "    population_result = evaluate_population(populations)\n",
    "    population_sorted = sorted(population_result, key=lambda tupla: tupla[1], reverse=True)\n",
    "    best_individual_score_ransac, best_individual_score_basic, best_individual_param = population_sorted[0]\n",
    "\n",
    "    mutated_individual = mutate_params(best_individual_param)\n",
    "    new_population_crossover  = crossover(best_individual_param, mutated_individual)\n",
    "    population_sorted = [population[2] for population in population_sorted]\n",
    "    if len(population_sorted) >=15:\n",
    "        population_sorted = population_sorted[:-3]\n",
    "        population_sorted.append(mutated_individual)\n",
    "    else:\n",
    "        population_sorted[-1] = mutated_individual\n",
    "\n",
    "    population_sorted.extend(new_population_crossover)\n",
    "    avaliacao_best.append(best_individual_score_basic)\n",
    "    populations = population_sorted\n",
    "    print(f\"\\t\\t SCORE DO MELHOR INDIVIDUO: {best_individual_score_basic} X {best_individual_score_ransac}\")\n",
    "    print(f\"-------------------- GERACAO {geracao+1}\\n\")"
   ]
  },
  {
   "cell_type": "markdown",
   "metadata": {},
   "source": [
    "# Aplica Algoritmo Genetico - Tipo 2"
   ]
  },
  {
   "cell_type": "code",
   "execution_count": 40,
   "metadata": {},
   "outputs": [
    {
     "name": "stdout",
     "output_type": "stream",
     "text": [
      "GERACAO 1 --------------------\n",
      "\t\t TOTAL DE INDIVIDUOS: 5\n",
      "\t\t SCORE DO MELHOR INDIVÍDUO: -1 X -1\n",
      "-------------------- GERACAO 1\n",
      "\n",
      "GERACAO 2 --------------------\n",
      "\t\t TOTAL DE INDIVIDUOS: 7\n",
      "\t\t SCORE DO MELHOR INDIVÍDUO: -1 X -1\n",
      "-------------------- GERACAO 2\n",
      "\n",
      "GERACAO 3 --------------------\n",
      "\t\t TOTAL DE INDIVIDUOS: 7\n",
      "\t\t SCORE DO MELHOR INDIVÍDUO: -1 X -1\n",
      "-------------------- GERACAO 3\n",
      "\n",
      "GERACAO 4 --------------------\n",
      "\t\t TOTAL DE INDIVIDUOS: 7\n",
      "\t\t SCORE DO MELHOR INDIVÍDUO: -1 X -1\n",
      "-------------------- GERACAO 4\n",
      "\n",
      "GERACAO 5 --------------------\n",
      "\t\t TOTAL DE INDIVIDUOS: 7\n",
      "\t\t SCORE DO MELHOR INDIVÍDUO: -1 X -1\n",
      "-------------------- GERACAO 5\n",
      "\n",
      "GERACAO 6 --------------------\n",
      "\t\t TOTAL DE INDIVIDUOS: 7\n",
      "\t\t SCORE DO MELHOR INDIVÍDUO: 0.5882352941176471 X 0.0\n",
      "-------------------- GERACAO 6\n",
      "\n",
      "GERACAO 7 --------------------\n",
      "\t\t TOTAL DE INDIVIDUOS: 7\n",
      "\t\t SCORE DO MELHOR INDIVÍDUO: 33.33333333333333 X 0.0\n",
      "-------------------- GERACAO 7\n",
      "\n",
      "GERACAO 8 --------------------\n",
      "\t\t TOTAL DE INDIVIDUOS: 7\n",
      "\t\t SCORE DO MELHOR INDIVÍDUO: 33.33333333333333 X 0.0\n",
      "-------------------- GERACAO 8\n",
      "\n",
      "GERACAO 9 --------------------\n",
      "\t\t TOTAL DE INDIVIDUOS: 7\n",
      "\t\t SCORE DO MELHOR INDIVÍDUO: 33.33333333333333 X 0.0\n",
      "-------------------- GERACAO 9\n",
      "\n",
      "GERACAO 10 --------------------\n",
      "\t\t TOTAL DE INDIVIDUOS: 7\n",
      "\t\t SCORE DO MELHOR INDIVÍDUO: 33.33333333333333 X 0.0\n",
      "-------------------- GERACAO 10\n",
      "\n",
      "GERACAO 11 --------------------\n",
      "\t\t TOTAL DE INDIVIDUOS: 7\n",
      "\t\t SCORE DO MELHOR INDIVÍDUO: 33.33333333333333 X 0.0\n",
      "-------------------- GERACAO 11\n",
      "\n",
      "GERACAO 12 --------------------\n",
      "\t\t TOTAL DE INDIVIDUOS: 7\n",
      "\t\t SCORE DO MELHOR INDIVÍDUO: 33.33333333333333 X 0.0\n",
      "-------------------- GERACAO 12\n",
      "\n",
      "GERACAO 13 --------------------\n",
      "\t\t TOTAL DE INDIVIDUOS: 7\n",
      "\t\t SCORE DO MELHOR INDIVÍDUO: 33.33333333333333 X 0.0\n",
      "-------------------- GERACAO 13\n",
      "\n",
      "GERACAO 14 --------------------\n",
      "\t\t TOTAL DE INDIVIDUOS: 7\n",
      "\t\t SCORE DO MELHOR INDIVÍDUO: 33.33333333333333 X 0.0\n",
      "-------------------- GERACAO 14\n",
      "\n",
      "GERACAO 15 --------------------\n",
      "\t\t TOTAL DE INDIVIDUOS: 7\n",
      "\t\t SCORE DO MELHOR INDIVÍDUO: 33.33333333333333 X 0.0\n",
      "-------------------- GERACAO 15\n",
      "\n",
      "GERACAO 16 --------------------\n",
      "\t\t TOTAL DE INDIVIDUOS: 7\n",
      "\t\t SCORE DO MELHOR INDIVÍDUO: 33.33333333333333 X 0.0\n",
      "-------------------- GERACAO 16\n",
      "\n",
      "GERACAO 17 --------------------\n",
      "\t\t TOTAL DE INDIVIDUOS: 7\n",
      "\t\t SCORE DO MELHOR INDIVÍDUO: 33.33333333333333 X 0.0\n",
      "-------------------- GERACAO 17\n",
      "\n",
      "GERACAO 18 --------------------\n",
      "\t\t TOTAL DE INDIVIDUOS: 7\n",
      "\t\t SCORE DO MELHOR INDIVÍDUO: 33.33333333333333 X 0.0\n",
      "-------------------- GERACAO 18\n",
      "\n",
      "GERACAO 19 --------------------\n",
      "\t\t TOTAL DE INDIVIDUOS: 7\n",
      "\t\t SCORE DO MELHOR INDIVÍDUO: 33.33333333333333 X 0.0\n",
      "-------------------- GERACAO 19\n",
      "\n",
      "GERACAO 20 --------------------\n",
      "\t\t TOTAL DE INDIVIDUOS: 7\n",
      "\t\t SCORE DO MELHOR INDIVÍDUO: 33.33333333333333 X 0.0\n",
      "-------------------- GERACAO 20\n",
      "\n",
      "GERACAO 21 --------------------\n",
      "\t\t TOTAL DE INDIVIDUOS: 7\n",
      "\t\t SCORE DO MELHOR INDIVÍDUO: 33.33333333333333 X 0.0\n",
      "-------------------- GERACAO 21\n",
      "\n",
      "GERACAO 22 --------------------\n",
      "\t\t TOTAL DE INDIVIDUOS: 7\n",
      "\t\t SCORE DO MELHOR INDIVÍDUO: 33.33333333333333 X 0.0\n",
      "-------------------- GERACAO 22\n",
      "\n",
      "GERACAO 23 --------------------\n",
      "\t\t TOTAL DE INDIVIDUOS: 7\n",
      "\t\t SCORE DO MELHOR INDIVÍDUO: 33.33333333333333 X 0.0\n",
      "-------------------- GERACAO 23\n",
      "\n",
      "GERACAO 24 --------------------\n",
      "\t\t TOTAL DE INDIVIDUOS: 7\n",
      "\t\t SCORE DO MELHOR INDIVÍDUO: 33.33333333333333 X 0.0\n",
      "-------------------- GERACAO 24\n",
      "\n",
      "GERACAO 25 --------------------\n",
      "\t\t TOTAL DE INDIVIDUOS: 7\n",
      "\t\t SCORE DO MELHOR INDIVÍDUO: 33.33333333333333 X 0.0\n",
      "-------------------- GERACAO 25\n",
      "\n",
      "GERACAO 26 --------------------\n",
      "\t\t TOTAL DE INDIVIDUOS: 7\n",
      "\t\t SCORE DO MELHOR INDIVÍDUO: 33.33333333333333 X 0.0\n",
      "-------------------- GERACAO 26\n",
      "\n",
      "GERACAO 27 --------------------\n",
      "\t\t TOTAL DE INDIVIDUOS: 7\n",
      "\t\t SCORE DO MELHOR INDIVÍDUO: 33.33333333333333 X 0.0\n",
      "-------------------- GERACAO 27\n",
      "\n",
      "GERACAO 28 --------------------\n",
      "\t\t TOTAL DE INDIVIDUOS: 7\n",
      "\t\t SCORE DO MELHOR INDIVÍDUO: 33.33333333333333 X 0.0\n",
      "-------------------- GERACAO 28\n",
      "\n",
      "GERACAO 29 --------------------\n",
      "\t\t TOTAL DE INDIVIDUOS: 7\n",
      "\t\t SCORE DO MELHOR INDIVÍDUO: 33.33333333333333 X 0.0\n",
      "-------------------- GERACAO 29\n",
      "\n",
      "GERACAO 30 --------------------\n",
      "\t\t TOTAL DE INDIVIDUOS: 7\n",
      "\t\t SCORE DO MELHOR INDIVÍDUO: 33.33333333333333 X 0.0\n",
      "-------------------- GERACAO 30\n",
      "\n"
     ]
    }
   ],
   "source": [
    "geracoes = 30\n",
    "populations = generate_random_population(POPULATION_SIZE)\n",
    "avaliacao_best = []\n",
    "used_params = set()\n",
    "\n",
    "for geracao in range(geracoes):\n",
    "    print(f\"GERACAO {geracao+1} --------------------\")\n",
    "    print(f\"\\t\\t TOTAL DE INDIVIDUOS: {len(populations)}\")\n",
    "\n",
    "    population_result = evaluate_population(populations)\n",
    "    population_sorted = sorted(population_result, key=lambda tupla: tupla[1], reverse=True)\n",
    "    best_individual_score_ransac, best_individual_score_basic, best_individual_param = population_sorted[0]\n",
    "\n",
    "    mutated_individual = mutate_params(best_individual_param)\n",
    "    new_population_crossover  = crossover(best_individual_param, mutated_individual)\n",
    "\n",
    "    # Gera uma nova população com base nas características do melhor indivíduo\n",
    "    new_population_based_on_best = generate_population_based_on_best(best_individual_param, POPULATION_SIZE, used_params)\n",
    "\n",
    "    # Atualiza a população para a próxima geração\n",
    "    populations = new_population_based_on_best + new_population_crossover\n",
    "\n",
    "    avaliacao_best.append(best_individual_score_basic)\n",
    "    print(f\"\\t\\t SCORE DO MELHOR INDIVÍDUO: {best_individual_score_basic} X {best_individual_score_ransac}\")\n",
    "    print(f\"\\t\\t PARAMETRO DO MELHOR INDIVÍDUO: {best_individual_param}\")\n",
    "\n",
    "    print(f\"-------------------- GERACAO {geracao+1}\\n\")\n"
   ]
  }
 ],
 "metadata": {
  "kernelspec": {
   "display_name": "venv",
   "language": "python",
   "name": "python3"
  },
  "language_info": {
   "codemirror_mode": {
    "name": "ipython",
    "version": 3
   },
   "file_extension": ".py",
   "mimetype": "text/x-python",
   "name": "python",
   "nbconvert_exporter": "python",
   "pygments_lexer": "ipython3",
   "version": "3.8.0"
  }
 },
 "nbformat": 4,
 "nbformat_minor": 2
}
