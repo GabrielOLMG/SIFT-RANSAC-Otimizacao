{
 "cells": [
  {
   "cell_type": "markdown",
   "metadata": {},
   "source": [
    "# Biblioteca"
   ]
  },
  {
   "cell_type": "code",
   "execution_count": 1,
   "metadata": {},
   "outputs": [],
   "source": [
    "import os\n",
    "import cv2 as cv\n",
    "import numpy as np\n",
    "import matplotlib.pyplot as plt\n",
    "import tqdm\n",
    "import random\n",
    "import math\n",
    "from itertools import product, permutations\n",
    "import concurrent.futures"
   ]
  },
  {
   "cell_type": "code",
   "execution_count": 2,
   "metadata": {},
   "outputs": [],
   "source": [
    "from funcoes_gerais import open_images, open_image\n",
    "from funcoes_semelhanca import compare_keypoints_descriptors, computeSIFT, _compare_keypoints_descriptors"
   ]
  },
  {
   "cell_type": "markdown",
   "metadata": {},
   "source": [
    "# Variaveis"
   ]
  },
  {
   "cell_type": "markdown",
   "metadata": {},
   "source": [
    "## Constantes"
   ]
  },
  {
   "cell_type": "code",
   "execution_count": 3,
   "metadata": {},
   "outputs": [],
   "source": [
    "PATH = \"data_real\"\n",
    "VAR_TYPES = {\"sigma\": float, \"contrastThreshold\": float, \"nOctaveLayers\": int, \"edgeThreshold\": int, \"nfeatures\": int}\n",
    "VAR_MUTATION = {\"sigma\": 0.3, \"contrastThreshold\": 0.3, \"nOctaveLayers\": 2, \"edgeThreshold\": 3, \"nfeatures\": 2}\n",
    "POPULATION_SIZE = 5"
   ]
  },
  {
   "cell_type": "markdown",
   "metadata": {},
   "source": [
    "## Geral"
   ]
  },
  {
   "cell_type": "code",
   "execution_count": 4,
   "metadata": {},
   "outputs": [],
   "source": [
    "path_imagem_1 = \"data_real/32972/imovel_1/1202860#009.jpg\"\n",
    "path_imagem_2 = \"data_real/32972/imovel_2/125621013-61#022.jpg\"\n",
    "\n",
    "imagem_1 = open_image(path_imagem_1)\n",
    "imagem_2 = open_image(path_imagem_2)"
   ]
  },
  {
   "cell_type": "markdown",
   "metadata": {},
   "source": [
    "# Funções"
   ]
  },
  {
   "cell_type": "code",
   "execution_count": 5,
   "metadata": {},
   "outputs": [],
   "source": [
    "def view_image(image):\n",
    "    imagem_rgb = cv.cvtColor(image, cv.COLOR_BGR2RGB)\n",
    "    plt.imshow(imagem_rgb)\n",
    "    plt.axis('off')  # Desativar eixos\n",
    "    plt.show()"
   ]
  },
  {
   "cell_type": "code",
   "execution_count": 6,
   "metadata": {},
   "outputs": [],
   "source": [
    "def get_keypoints_descriptors(sift, image):\n",
    "    keypoint, descriptor = computeSIFT(sift, image)\n",
    "    \n",
    "    keypoint = [(float(kp.pt[0]), float(kp.pt[1])) for kp in keypoint]\n",
    "    if len(keypoint) <=1:\n",
    "        return None\n",
    "    descriptor = descriptor.astype(np.float32)\n",
    "\n",
    "    return [keypoint, descriptor, image]"
   ]
  },
  {
   "cell_type": "code",
   "execution_count": 7,
   "metadata": {},
   "outputs": [],
   "source": [
    "def evaluates_performance(parametro, imagem_1, imagem_2):\n",
    "    sift = cv.SIFT_create(**parametro)\n",
    "\n",
    "    keypoints_descriptors_image_1 = get_keypoints_descriptors(sift, imagem_1)\n",
    "    keypoints_descriptors_image_2 = get_keypoints_descriptors(sift, imagem_2)\n",
    "\n",
    "    if (keypoints_descriptors_image_1 is None or keypoints_descriptors_image_2 is None):\n",
    "        return -1, -1\n",
    "\n",
    "    score_1_ransac,score_2_normal  =  _compare_keypoints_descriptors(keypoints_descriptors_image_1, keypoints_descriptors_image_2, same=True)\n",
    "    \n",
    "    return score_1_ransac,score_2_normal"
   ]
  },
  {
   "cell_type": "code",
   "execution_count": 8,
   "metadata": {},
   "outputs": [],
   "source": [
    "def accept_worse_solution(desempenho_atual, desempenho_novo, temperatura):\n",
    "    probability = math.exp((desempenho_atual - desempenho_novo) / temperatura)\n",
    "    accepted = random.random() < probability\n",
    "    return accepted"
   ]
  },
  {
   "cell_type": "code",
   "execution_count": 9,
   "metadata": {},
   "outputs": [],
   "source": [
    "def generates_mutation(parametro_nome, old_value):\n",
    "    variation = random.uniform(-VAR_MUTATION[parametro_nome], VAR_MUTATION[parametro_nome])\n",
    "\n",
    "    if VAR_TYPES[parametro_nome] == int:\n",
    "        variation = round(variation)\n",
    "\n",
    "    if parametro_nome == \"nOctaveLayers\":\n",
    "        new_value = max(2, old_value + variation)\n",
    "    else:\n",
    "        new_value = max(0, old_value + variation)\n",
    "\n",
    "    return new_value"
   ]
  },
  {
   "cell_type": "code",
   "execution_count": 10,
   "metadata": {},
   "outputs": [],
   "source": [
    "def generate_random_population(population_size):\n",
    "    population = []\n",
    "\n",
    "    while len(population) < population_size:\n",
    "        parameters = {\n",
    "            \"sigma\": random.uniform(0.1, 1.0),\n",
    "            \"contrastThreshold\": random.uniform(0.1, 0.5),\n",
    "            \"nOctaveLayers\": random.randint(2, 6),\n",
    "            \"edgeThreshold\": random.randint(5, 20),\n",
    "            \"nfeatures\": random.randint(50, 500),\n",
    "        }\n",
    "\n",
    "        # Verifica se o conjunto de parâmetros já está na população\n",
    "        if parameters not in population:\n",
    "            population.append(parameters)\n",
    "\n",
    "    return population"
   ]
  },
  {
   "cell_type": "code",
   "execution_count": 11,
   "metadata": {},
   "outputs": [],
   "source": [
    "def evaluate_individual(individual):\n",
    "    # Avaliar o desempenho do RANSAC e do método básico para um indivíduo\n",
    "    score_ransac, score_basic = evaluates_performance(individual, imagem_1, imagem_2)\n",
    "\n",
    "    return score_ransac, score_basic, individual"
   ]
  },
  {
   "cell_type": "code",
   "execution_count": 12,
   "metadata": {},
   "outputs": [],
   "source": [
    "def evaluate_population(population):\n",
    "    with concurrent.futures.ThreadPoolExecutor() as executor:\n",
    "        # Avalia cada indivíduo na população em paralelo\n",
    "        results = list(executor.map(evaluate_individual, population))\n",
    "    \n",
    "    return results\n",
    "\n"
   ]
  },
  {
   "cell_type": "code",
   "execution_count": 13,
   "metadata": {},
   "outputs": [],
   "source": [
    "def crossover(parent1, parent2, crossover_point=None):\n",
    "    \"\"\"\n",
    "    Realiza a operação de crossover entre dois indivíduos representados como dicionários.\n",
    "\n",
    "    Parâmetros:\n",
    "    - parent1: Dicionário representando o primeiro pai.\n",
    "    - parent2: Dicionário representando o segundo pai.\n",
    "    - crossover_point: Ponto de crossover no vetor (índice). Se for None, um ponto é escolhido aleatoriamente.\n",
    "\n",
    "    Retorna:\n",
    "    - Descendentes gerados a partir do crossover.\n",
    "    \"\"\"\n",
    "    if crossover_point is None:\n",
    "        crossover_point = random.randint(1, len(parent1) - 1)\n",
    "\n",
    "    child1 = {}\n",
    "    child2 = {}\n",
    "\n",
    "    keys = list(parent1.keys())\n",
    "\n",
    "    for i in range(crossover_point):\n",
    "        child1[keys[i]] = parent1[keys[i]]\n",
    "        child2[keys[i]] = parent2[keys[i]]\n",
    "\n",
    "    for i in range(crossover_point, len(parent1)):\n",
    "        child1[keys[i]] = parent2[keys[i]]\n",
    "        child2[keys[i]] = parent1[keys[i]]\n",
    "\n",
    "    return [child1, child2]"
   ]
  },
  {
   "cell_type": "markdown",
   "metadata": {},
   "source": [
    "# Aplica Algoritmo Genetico "
   ]
  },
  {
   "cell_type": "code",
   "execution_count": 18,
   "metadata": {},
   "outputs": [
    {
     "name": "stdout",
     "output_type": "stream",
     "text": [
      "GERACAO 1 --------------------\n",
      "\t\t TOTAL DE INDIVIDUOS: 5\n",
      "\t\t SCORE DO MELHOR INDIVIDUO: 0.0 X 0.0\n",
      "-------------------- GERACAO 1\n",
      "\n",
      "GERACAO 2 --------------------\n",
      "\t\t TOTAL DE INDIVIDUOS: 7\n",
      "\t\t SCORE DO MELHOR INDIVIDUO: 0.0 X 0.0\n",
      "-------------------- GERACAO 2\n",
      "\n",
      "GERACAO 3 --------------------\n",
      "\t\t TOTAL DE INDIVIDUOS: 9\n",
      "\t\t SCORE DO MELHOR INDIVIDUO: 0.0 X 0.0\n",
      "-------------------- GERACAO 3\n",
      "\n",
      "GERACAO 4 --------------------\n",
      "\t\t TOTAL DE INDIVIDUOS: 11\n",
      "\t\t SCORE DO MELHOR INDIVIDUO: 0.0 X 0.0\n",
      "-------------------- GERACAO 4\n",
      "\n",
      "GERACAO 5 --------------------\n",
      "\t\t TOTAL DE INDIVIDUOS: 13\n",
      "\t\t SCORE DO MELHOR INDIVIDUO: 0.0 X 0.0\n",
      "-------------------- GERACAO 5\n",
      "\n",
      "GERACAO 6 --------------------\n",
      "\t\t TOTAL DE INDIVIDUOS: 15\n",
      "\t\t SCORE DO MELHOR INDIVIDUO: 0.0 X 0.0\n",
      "-------------------- GERACAO 6\n",
      "\n",
      "GERACAO 7 --------------------\n",
      "\t\t TOTAL DE INDIVIDUOS: 15\n",
      "\t\t SCORE DO MELHOR INDIVIDUO: 0.0 X 0.0\n",
      "-------------------- GERACAO 7\n",
      "\n",
      "GERACAO 8 --------------------\n",
      "\t\t TOTAL DE INDIVIDUOS: 15\n"
     ]
    },
    {
     "ename": "",
     "evalue": "",
     "output_type": "error",
     "traceback": [
      "\u001b[1;31mThe Kernel crashed while executing code in the the current cell or a previous cell. Please review the code in the cell(s) to identify a possible cause of the failure. Click <a href='https://aka.ms/vscodeJupyterKernelCrash'>here</a> for more info. View Jupyter <a href='command:jupyter.viewOutput'>log</a> for further details."
     ]
    }
   ],
   "source": [
    "geracoes = 30\n",
    "populations = generate_random_population(POPULATION_SIZE)\n",
    "avaliacao_best = []\n",
    "for geracao in range(geracoes):\n",
    "    print(f\"GERACAO {geracao+1} --------------------\")\n",
    "    print(f\"\\t\\t TOTAL DE INDIVIDUOS: {len(populations)}\")\n",
    "\n",
    "    population_result = evaluate_population(populations)\n",
    "    population_sorted = sorted(population_result, key=lambda tupla: tupla[1], reverse=True)\n",
    "    best_individual_score_ransac, best_individual_score_basic, best_individual_param = population_sorted[0]\n",
    "\n",
    "    mutated_individual = {param: generates_mutation(param, value) for param, value in best_individual_param.items()}\n",
    "    new_population_crossover  = crossover(best_individual_param, mutated_individual)\n",
    "    population_sorted = [population[2] for population in population_sorted]\n",
    "    if len(population_sorted) >=15:\n",
    "        population_sorted = population_sorted[:-3]\n",
    "        population_sorted.append(mutated_individual)\n",
    "    else:\n",
    "        population_sorted[-1] = mutated_individual\n",
    "\n",
    "    population_sorted.extend(new_population_crossover)\n",
    "    avaliacao_best.append(best_individual_score_basic)\n",
    "    populations = population_sorted\n",
    "    print(f\"\\t\\t SCORE DO MELHOR INDIVIDUO: {best_individual_score_basic} X {best_individual_score_ransac}\")\n",
    "    print(f\"-------------------- GERACAO {geracao+1}\\n\")"
   ]
  }
 ],
 "metadata": {
  "kernelspec": {
   "display_name": "venv",
   "language": "python",
   "name": "python3"
  },
  "language_info": {
   "codemirror_mode": {
    "name": "ipython",
    "version": 3
   },
   "file_extension": ".py",
   "mimetype": "text/x-python",
   "name": "python",
   "nbconvert_exporter": "python",
   "pygments_lexer": "ipython3",
   "version": "3.8.0"
  }
 },
 "nbformat": 4,
 "nbformat_minor": 2
}
